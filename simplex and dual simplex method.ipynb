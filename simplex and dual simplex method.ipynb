{
 "cells": [
  {
   "cell_type": "code",
   "execution_count": 1,
   "id": "aa46dd43",
   "metadata": {},
   "outputs": [
    {
     "data": {
      "text/plain": [
       "'\\nMaximize:\\n5x+3y\\nSubject to\\n3x+2y≤12\\nx+4y≤8\\nx,y≥0'"
      ]
     },
     "execution_count": 1,
     "metadata": {},
     "output_type": "execute_result"
    }
   ],
   "source": [
    "# Problem Statement\n",
    "'''\n",
    "Maximize:\n",
    "5x+3y\n",
    "Subject to\n",
    "3x+2y≤12\n",
    "x+4y≤8\n",
    "x,y≥0'''\n"
   ]
  },
  {
   "cell_type": "code",
   "execution_count": 2,
   "id": "e329b4e0",
   "metadata": {},
   "outputs": [
    {
     "name": "stdout",
     "output_type": "stream",
     "text": [
      "Requirement already satisfied: scipy in c:\\users\\js031\\anaconda3\\lib\\site-packages (1.11.1)\n",
      "Requirement already satisfied: numpy<1.28.0,>=1.21.6 in c:\\users\\js031\\anaconda3\\lib\\site-packages (from scipy) (1.24.3)\n",
      "Note: you may need to restart the kernel to use updated packages.\n"
     ]
    }
   ],
   "source": [
    "pip install scipy\n"
   ]
  },
  {
   "cell_type": "code",
   "execution_count": 3,
   "id": "5d19a0a8",
   "metadata": {},
   "outputs": [
    {
     "name": "stdout",
     "output_type": "stream",
     "text": [
      "Optimal value: 20.0\n",
      "x: 4.0\n",
      "y: 0.0\n"
     ]
    },
    {
     "name": "stderr",
     "output_type": "stream",
     "text": [
      "C:\\Users\\js031\\AppData\\Local\\Temp\\ipykernel_3076\\541865464.py:21: DeprecationWarning: `method='simplex'` is deprecated and will be removed in SciPy 1.11.0. Please use one of the HiGHS solvers (e.g. `method='highs'`) in new code.\n",
      "  result = linprog(c, A_ub=A, b_ub=b, bounds=[x_bounds, y_bounds], method='simplex')\n"
     ]
    }
   ],
   "source": [
    "import numpy as np\n",
    "from scipy.optimize import linprog\n",
    "\n",
    "# Coefficients of the objective function\n",
    "c = [-5, -3]  # Coefficients are negated for maximization\n",
    "\n",
    "# Coefficients of the inequality constraints (LHS)\n",
    "A = [\n",
    "    [3, 2],   # 3x + 2y <= 12\n",
    "    [1, 4]    # x + 4y <= 8\n",
    "]\n",
    "\n",
    "# RHS of the inequality constraints\n",
    "b = [12, 8]\n",
    "\n",
    "# Bounds for variables x and y\n",
    "x_bounds = (0, None)\n",
    "y_bounds = (0, None)\n",
    "\n",
    "# Solve the problem using the Simplex method\n",
    "result = linprog(c, A_ub=A, b_ub=b, bounds=[x_bounds, y_bounds], method='simplex')\n",
    "\n",
    "# Check if the optimization was successful\n",
    "if result.success:\n",
    "    # Print the result\n",
    "    print('Optimal value:', -result.fun)\n",
    "    print('x:', result.x[0])\n",
    "    print('y:', result.x[1])\n",
    "else:\n",
    "    print('Optimization was not successful')\n"
   ]
  },
  {
   "cell_type": "code",
   "execution_count": 4,
   "id": "15069428",
   "metadata": {},
   "outputs": [
    {
     "name": "stdout",
     "output_type": "stream",
     "text": [
      "Requirement already satisfied: pulp in c:\\users\\js031\\anaconda3\\lib\\site-packages (2.9.0)Note: you may need to restart the kernel to use updated packages.\n",
      "\n"
     ]
    }
   ],
   "source": [
    "pip install pulp\n"
   ]
  },
  {
   "cell_type": "code",
   "execution_count": 5,
   "id": "d13cc2ba",
   "metadata": {},
   "outputs": [
    {
     "name": "stdout",
     "output_type": "stream",
     "text": [
      "Status: Optimal\n",
      "Optimal value: 20.0\n",
      "x = 4.0\n",
      "y = 0.0\n"
     ]
    }
   ],
   "source": [
    "import pulp\n",
    "\n",
    "# Create a linear programming problem\n",
    "lp_problem = pulp.LpProblem(\"Maximize_Profit\", pulp.LpMaximize)\n",
    "\n",
    "# Decision variables\n",
    "x = pulp.LpVariable('x', lowBound=0, cat='Continuous')\n",
    "y = pulp.LpVariable('y', lowBound=0, cat='Continuous')\n",
    "\n",
    "# Objective function\n",
    "lp_problem += 5 * x + 3 * y, \"Profit\"\n",
    "\n",
    "# Constraints\n",
    "lp_problem += 3 * x + 2 * y <= 12, \"Constraint_1\"\n",
    "lp_problem += x + 4 * y <= 8, \"Constraint_2\"\n",
    "\n",
    "# Solve the problem using the Dual Simplex method\n",
    "lp_problem.solve(pulp.PULP_CBC_CMD(msg=1, options=['dualSimplex']))\n",
    "\n",
    "# Print the result\n",
    "print(\"Status:\", pulp.LpStatus[lp_problem.status])\n",
    "print(\"Optimal value:\", pulp.value(lp_problem.objective))\n",
    "print(\"x =\", x.varValue)\n",
    "print(\"y =\", y.varValue)\n"
   ]
  },
  {
   "cell_type": "code",
   "execution_count": null,
   "id": "518b3e31",
   "metadata": {},
   "outputs": [],
   "source": []
  }
 ],
 "metadata": {
  "kernelspec": {
   "display_name": "Python 3 (ipykernel)",
   "language": "python",
   "name": "python3"
  },
  "language_info": {
   "codemirror_mode": {
    "name": "ipython",
    "version": 3
   },
   "file_extension": ".py",
   "mimetype": "text/x-python",
   "name": "python",
   "nbconvert_exporter": "python",
   "pygments_lexer": "ipython3",
   "version": "3.11.5"
  }
 },
 "nbformat": 4,
 "nbformat_minor": 5
}
